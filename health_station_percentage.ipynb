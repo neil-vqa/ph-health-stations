{
 "cells": [
  {
   "cell_type": "code",
   "execution_count": 1,
   "metadata": {},
   "outputs": [],
   "source": [
    "%matplotlib inline\n",
    "import pandas as pd\n",
    "import numpy as np\n",
    "import matplotlib.pyplot as plt\n",
    "import geopandas as ppd"
   ]
  },
  {
   "cell_type": "code",
   "execution_count": 2,
   "metadata": {},
   "outputs": [
    {
     "data": {
      "text/html": [
       "<div>\n",
       "<style scoped>\n",
       "    .dataframe tbody tr th:only-of-type {\n",
       "        vertical-align: middle;\n",
       "    }\n",
       "\n",
       "    .dataframe tbody tr th {\n",
       "        vertical-align: top;\n",
       "    }\n",
       "\n",
       "    .dataframe thead th {\n",
       "        text-align: right;\n",
       "    }\n",
       "</style>\n",
       "<table border=\"1\" class=\"dataframe\">\n",
       "  <thead>\n",
       "    <tr style=\"text-align: right;\">\n",
       "      <th></th>\n",
       "      <th>REGION</th>\n",
       "      <th>geometry</th>\n",
       "    </tr>\n",
       "  </thead>\n",
       "  <tbody>\n",
       "    <tr>\n",
       "      <th>0</th>\n",
       "      <td>Autonomous Region of Muslim Mindanao (ARMM)</td>\n",
       "      <td>MULTIPOLYGON (((119.46694 4.58694, 119.46639 4...</td>\n",
       "    </tr>\n",
       "    <tr>\n",
       "      <th>1</th>\n",
       "      <td>Bicol Region (Region V)</td>\n",
       "      <td>MULTIPOLYGON (((122.98417 11.71056, 122.98333 ...</td>\n",
       "    </tr>\n",
       "    <tr>\n",
       "      <th>2</th>\n",
       "      <td>CALABARZON (Region IV-A)</td>\n",
       "      <td>MULTIPOLYGON (((125.22166 10.43444, 125.22195 ...</td>\n",
       "    </tr>\n",
       "    <tr>\n",
       "      <th>3</th>\n",
       "      <td>Cagayan Valley (Region II)</td>\n",
       "      <td>MULTIPOLYGON (((122.47040 16.91995, 122.47040 ...</td>\n",
       "    </tr>\n",
       "    <tr>\n",
       "      <th>4</th>\n",
       "      <td>Caraga (Region XIII)</td>\n",
       "      <td>MULTIPOLYGON (((126.41750 7.96417, 126.41778 7...</td>\n",
       "    </tr>\n",
       "  </tbody>\n",
       "</table>\n",
       "</div>"
      ],
      "text/plain": [
       "                                        REGION  \\\n",
       "0  Autonomous Region of Muslim Mindanao (ARMM)   \n",
       "1                      Bicol Region (Region V)   \n",
       "2                     CALABARZON (Region IV-A)   \n",
       "3                   Cagayan Valley (Region II)   \n",
       "4                         Caraga (Region XIII)   \n",
       "\n",
       "                                            geometry  \n",
       "0  MULTIPOLYGON (((119.46694 4.58694, 119.46639 4...  \n",
       "1  MULTIPOLYGON (((122.98417 11.71056, 122.98333 ...  \n",
       "2  MULTIPOLYGON (((125.22166 10.43444, 125.22195 ...  \n",
       "3  MULTIPOLYGON (((122.47040 16.91995, 122.47040 ...  \n",
       "4  MULTIPOLYGON (((126.41750 7.96417, 126.41778 7...  "
      ]
     },
     "execution_count": 2,
     "metadata": {},
     "output_type": "execute_result"
    }
   ],
   "source": [
    "shape_df = ppd.read_file('map_data/Regions.shp')\n",
    "shape_df.head()"
   ]
  },
  {
   "cell_type": "code",
   "execution_count": 3,
   "metadata": {},
   "outputs": [
    {
     "data": {
      "text/plain": [
       "<matplotlib.axes._subplots.AxesSubplot at 0x7f0c30265ac8>"
      ]
     },
     "execution_count": 3,
     "metadata": {},
     "output_type": "execute_result"
    },
    {
     "data": {
      "image/png": "[encoded data removed]",
      "text/plain": [
       "<Figure size 432x288 with 1 Axes>"
      ]
     },
     "metadata": {
      "needs_background": "light"
     },
     "output_type": "display_data"
    }
   ],
   "source": [
    "shape_df.plot()"
   ]
  },
  {
   "cell_type": "code",
   "execution_count": 4,
   "metadata": {},
   "outputs": [
    {
     "data": {
      "text/html": [
       "<div>\n",
       "<style scoped>\n",
       "    .dataframe tbody tr th:only-of-type {\n",
       "        vertical-align: middle;\n",
       "    }\n",
       "\n",
       "    .dataframe tbody tr th {\n",
       "        vertical-align: top;\n",
       "    }\n",
       "\n",
       "    .dataframe thead th {\n",
       "        text-align: right;\n",
       "    }\n",
       "</style>\n",
       "<table border=\"1\" class=\"dataframe\">\n",
       "  <thead>\n",
       "    <tr style=\"text-align: right;\">\n",
       "      <th></th>\n",
       "      <th>Region</th>\n",
       "      <th>Rate</th>\n",
       "    </tr>\n",
       "  </thead>\n",
       "  <tbody>\n",
       "    <tr>\n",
       "      <th>0</th>\n",
       "      <td>Metropolitan Manila</td>\n",
       "      <td>27.96</td>\n",
       "    </tr>\n",
       "    <tr>\n",
       "      <th>1</th>\n",
       "      <td>Cordillera Administrative Region (CAR)</td>\n",
       "      <td>54.34</td>\n",
       "    </tr>\n",
       "    <tr>\n",
       "      <th>2</th>\n",
       "      <td>Ilocos Region (Region I)</td>\n",
       "      <td>35.53</td>\n",
       "    </tr>\n",
       "    <tr>\n",
       "      <th>3</th>\n",
       "      <td>Cagayan Valley (Region II)</td>\n",
       "      <td>53.66</td>\n",
       "    </tr>\n",
       "    <tr>\n",
       "      <th>4</th>\n",
       "      <td>Central Luzon (Region III)</td>\n",
       "      <td>63.48</td>\n",
       "    </tr>\n",
       "  </tbody>\n",
       "</table>\n",
       "</div>"
      ],
      "text/plain": [
       "                                   Region   Rate\n",
       "0                     Metropolitan Manila  27.96\n",
       "1  Cordillera Administrative Region (CAR)  54.34\n",
       "2                Ilocos Region (Region I)  35.53\n",
       "3              Cagayan Valley (Region II)  53.66\n",
       "4              Central Luzon (Region III)  63.48"
      ]
     },
     "execution_count": 4,
     "metadata": {},
     "output_type": "execute_result"
    }
   ],
   "source": [
    "df = pd.read_csv('health_stations.csv', header=0)\n",
    "df.head()"
   ]
  },
  {
   "cell_type": "code",
   "execution_count": 5,
   "metadata": {},
   "outputs": [
    {
     "data": {
      "text/html": [
       "<div>\n",
       "<style scoped>\n",
       "    .dataframe tbody tr th:only-of-type {\n",
       "        vertical-align: middle;\n",
       "    }\n",
       "\n",
       "    .dataframe tbody tr th {\n",
       "        vertical-align: top;\n",
       "    }\n",
       "\n",
       "    .dataframe thead th {\n",
       "        text-align: right;\n",
       "    }\n",
       "</style>\n",
       "<table border=\"1\" class=\"dataframe\">\n",
       "  <thead>\n",
       "    <tr style=\"text-align: right;\">\n",
       "      <th></th>\n",
       "      <th>geometry</th>\n",
       "      <th>Rate</th>\n",
       "    </tr>\n",
       "    <tr>\n",
       "      <th>REGION</th>\n",
       "      <th></th>\n",
       "      <th></th>\n",
       "    </tr>\n",
       "  </thead>\n",
       "  <tbody>\n",
       "    <tr>\n",
       "      <th>Autonomous Region of Muslim Mindanao (ARMM)</th>\n",
       "      <td>MULTIPOLYGON (((119.46694 4.58694, 119.46639 4...</td>\n",
       "      <td>16.91</td>\n",
       "    </tr>\n",
       "    <tr>\n",
       "      <th>Bicol Region (Region V)</th>\n",
       "      <td>MULTIPOLYGON (((122.98417 11.71056, 122.98333 ...</td>\n",
       "      <td>33.36</td>\n",
       "    </tr>\n",
       "    <tr>\n",
       "      <th>CALABARZON (Region IV-A)</th>\n",
       "      <td>MULTIPOLYGON (((125.22166 10.43444, 125.22195 ...</td>\n",
       "      <td>55.95</td>\n",
       "    </tr>\n",
       "    <tr>\n",
       "      <th>Cagayan Valley (Region II)</th>\n",
       "      <td>MULTIPOLYGON (((122.47040 16.91995, 122.47040 ...</td>\n",
       "      <td>53.66</td>\n",
       "    </tr>\n",
       "    <tr>\n",
       "      <th>Caraga (Region XIII)</th>\n",
       "      <td>MULTIPOLYGON (((126.41750 7.96417, 126.41778 7...</td>\n",
       "      <td>59.65</td>\n",
       "    </tr>\n",
       "  </tbody>\n",
       "</table>\n",
       "</div>"
      ],
      "text/plain": [
       "                                                                                      geometry  \\\n",
       "REGION                                                                                           \n",
       "Autonomous Region of Muslim Mindanao (ARMM)  MULTIPOLYGON (((119.46694 4.58694, 119.46639 4...   \n",
       "Bicol Region (Region V)                      MULTIPOLYGON (((122.98417 11.71056, 122.98333 ...   \n",
       "CALABARZON (Region IV-A)                     MULTIPOLYGON (((125.22166 10.43444, 125.22195 ...   \n",
       "Cagayan Valley (Region II)                   MULTIPOLYGON (((122.47040 16.91995, 122.47040 ...   \n",
       "Caraga (Region XIII)                         MULTIPOLYGON (((126.41750 7.96417, 126.41778 7...   \n",
       "\n",
       "                                              Rate  \n",
       "REGION                                              \n",
       "Autonomous Region of Muslim Mindanao (ARMM)  16.91  \n",
       "Bicol Region (Region V)                      33.36  \n",
       "CALABARZON (Region IV-A)                     55.95  \n",
       "Cagayan Valley (Region II)                   53.66  \n",
       "Caraga (Region XIII)                         59.65  "
      ]
     },
     "execution_count": 5,
     "metadata": {},
     "output_type": "execute_result"
    }
   ],
   "source": [
    "merged = shape_df.set_index('REGION').join(df.set_index('Region'))\n",
    "merged.head()"
   ]
  },
  {
   "cell_type": "code",
   "execution_count": 6,
   "metadata": {},
   "outputs": [
    {
     "data": {
      "text/plain": [
       "<matplotlib.axes._subplots.AxesSubplot at 0x7f0c2fbbbba8>"
      ]
     },
     "execution_count": 6,
     "metadata": {},
     "output_type": "execute_result"
    },
    {
     "data": {
      "image/png": "[encoded data removed]",
      "text/plain": [
       "<Figure size 432x576 with 1 Axes>"
      ]
     },
     "metadata": {
      "needs_background": "light"
     },
     "output_type": "display_data"
    }
   ],
   "source": [
    "var = 'Rate'\n",
    "vmin, vmax = 0,100\n",
    "fig, ax = plt.subplots(1, figsize=(6,8))\n",
    "merged.plot(column=var, cmap='Greens', linewidth=0.2, ax=ax, edgecolor='0.5')"
   ]
  },
  {
   "cell_type": "code",
   "execution_count": 7,
   "metadata": {},
   "outputs": [],
   "source": [
    "ax.axis('off')\n",
    "\n",
    "sm = plt.cm.ScalarMappable(cmap='Greens', norm=plt.Normalize(vmin=vmin, vmax=vmax))\n",
    "sm._A = []\n",
    "cbar = fig.colorbar(sm)"
   ]
  },
  {
   "cell_type": "code",
   "execution_count": 8,
   "metadata": {},
   "outputs": [],
   "source": [
    "fig.savefig('health_choro_map.png', dpi=400)"
   ]
  },
  {
   "cell_type": "code",
   "execution_count": 9,
   "metadata": {},
   "outputs": [
    {
     "data": {
      "text/html": [
       "<div>\n",
       "<style scoped>\n",
       "    .dataframe tbody tr th:only-of-type {\n",
       "        vertical-align: middle;\n",
       "    }\n",
       "\n",
       "    .dataframe tbody tr th {\n",
       "        vertical-align: top;\n",
       "    }\n",
       "\n",
       "    .dataframe thead th {\n",
       "        text-align: right;\n",
       "    }\n",
       "</style>\n",
       "<table border=\"1\" class=\"dataframe\">\n",
       "  <thead>\n",
       "    <tr style=\"text-align: right;\">\n",
       "      <th></th>\n",
       "      <th>geometry</th>\n",
       "      <th>Rate</th>\n",
       "    </tr>\n",
       "    <tr>\n",
       "      <th>REGION</th>\n",
       "      <th></th>\n",
       "      <th></th>\n",
       "    </tr>\n",
       "  </thead>\n",
       "  <tbody>\n",
       "    <tr>\n",
       "      <th>Autonomous Region of Muslim Mindanao (ARMM)</th>\n",
       "      <td>MULTIPOLYGON (((119.46694 4.58694, 119.46639 4...</td>\n",
       "      <td>16.91</td>\n",
       "    </tr>\n",
       "    <tr>\n",
       "      <th>Bicol Region (Region V)</th>\n",
       "      <td>MULTIPOLYGON (((122.98417 11.71056, 122.98333 ...</td>\n",
       "      <td>33.36</td>\n",
       "    </tr>\n",
       "    <tr>\n",
       "      <th>CALABARZON (Region IV-A)</th>\n",
       "      <td>MULTIPOLYGON (((125.22166 10.43444, 125.22195 ...</td>\n",
       "      <td>55.95</td>\n",
       "    </tr>\n",
       "    <tr>\n",
       "      <th>Cagayan Valley (Region II)</th>\n",
       "      <td>MULTIPOLYGON (((122.47040 16.91995, 122.47040 ...</td>\n",
       "      <td>53.66</td>\n",
       "    </tr>\n",
       "    <tr>\n",
       "      <th>Caraga (Region XIII)</th>\n",
       "      <td>MULTIPOLYGON (((126.41750 7.96417, 126.41778 7...</td>\n",
       "      <td>59.65</td>\n",
       "    </tr>\n",
       "    <tr>\n",
       "      <th>Central Luzon (Region III)</th>\n",
       "      <td>MULTIPOLYGON (((120.62363 14.36788, 120.62368 ...</td>\n",
       "      <td>63.48</td>\n",
       "    </tr>\n",
       "    <tr>\n",
       "      <th>Central Visayas (Region VII)</th>\n",
       "      <td>MULTIPOLYGON (((123.27111 9.08476, 123.27173 9...</td>\n",
       "      <td>62.50</td>\n",
       "    </tr>\n",
       "    <tr>\n",
       "      <th>Cordillera Administrative Region (CAR)</th>\n",
       "      <td>POLYGON ((121.37679 17.95473, 121.36825 17.939...</td>\n",
       "      <td>54.34</td>\n",
       "    </tr>\n",
       "    <tr>\n",
       "      <th>Davao Region (Region XI)</th>\n",
       "      <td>MULTIPOLYGON (((125.39778 5.43583, 125.39778 5...</td>\n",
       "      <td>88.04</td>\n",
       "    </tr>\n",
       "    <tr>\n",
       "      <th>Eastern Visayas (Region VIII)</th>\n",
       "      <td>MULTIPOLYGON (((125.07361 9.89472, 125.07333 9...</td>\n",
       "      <td>18.93</td>\n",
       "    </tr>\n",
       "    <tr>\n",
       "      <th>Ilocos Region (Region I)</th>\n",
       "      <td>MULTIPOLYGON (((119.86505 15.81170, 119.86479 ...</td>\n",
       "      <td>35.53</td>\n",
       "    </tr>\n",
       "    <tr>\n",
       "      <th>MIMAROPA (Region IV-B)</th>\n",
       "      <td>MULTIPOLYGON (((117.31389 7.51417, 117.31416 7...</td>\n",
       "      <td>57.30</td>\n",
       "    </tr>\n",
       "    <tr>\n",
       "      <th>Metropolitan Manila</th>\n",
       "      <td>MULTIPOLYGON (((120.97972 14.49306, 120.98000 ...</td>\n",
       "      <td>27.96</td>\n",
       "    </tr>\n",
       "    <tr>\n",
       "      <th>Northern Mindanao (Region X)</th>\n",
       "      <td>MULTIPOLYGON (((123.62193 7.82859, 123.62172 7...</td>\n",
       "      <td>53.66</td>\n",
       "    </tr>\n",
       "    <tr>\n",
       "      <th>SOCCSKSARGEN (Region XII)</th>\n",
       "      <td>POLYGON ((124.53799 7.68187, 124.54649 7.68032...</td>\n",
       "      <td>93.31</td>\n",
       "    </tr>\n",
       "    <tr>\n",
       "      <th>Western Visayas (Region VI)</th>\n",
       "      <td>MULTIPOLYGON (((122.43522 9.64382, 122.43490 9...</td>\n",
       "      <td>50.83</td>\n",
       "    </tr>\n",
       "    <tr>\n",
       "      <th>Zamboanga Peninsula (Region IX)</th>\n",
       "      <td>MULTIPOLYGON (((122.06223 6.87278, 122.06250 6...</td>\n",
       "      <td>36.87</td>\n",
       "    </tr>\n",
       "  </tbody>\n",
       "</table>\n",
       "</div>"
      ],
      "text/plain": [
       "                                                                                      geometry  \\\n",
       "REGION                                                                                           \n",
       "Autonomous Region of Muslim Mindanao (ARMM)  MULTIPOLYGON (((119.46694 4.58694, 119.46639 4...   \n",
       "Bicol Region (Region V)                      MULTIPOLYGON (((122.98417 11.71056, 122.98333 ...   \n",
       "CALABARZON (Region IV-A)                     MULTIPOLYGON (((125.22166 10.43444, 125.22195 ...   \n",
       "Cagayan Valley (Region II)                   MULTIPOLYGON (((122.47040 16.91995, 122.47040 ...   \n",
       "Caraga (Region XIII)                         MULTIPOLYGON (((126.41750 7.96417, 126.41778 7...   \n",
       "Central Luzon (Region III)                   MULTIPOLYGON (((120.62363 14.36788, 120.62368 ...   \n",
       "Central Visayas (Region VII)                 MULTIPOLYGON (((123.27111 9.08476, 123.27173 9...   \n",
       "Cordillera Administrative Region (CAR)       POLYGON ((121.37679 17.95473, 121.36825 17.939...   \n",
       "Davao Region (Region XI)                     MULTIPOLYGON (((125.39778 5.43583, 125.39778 5...   \n",
       "Eastern Visayas (Region VIII)                MULTIPOLYGON (((125.07361 9.89472, 125.07333 9...   \n",
       "Ilocos Region (Region I)                     MULTIPOLYGON (((119.86505 15.81170, 119.86479 ...   \n",
       "MIMAROPA (Region IV-B)                       MULTIPOLYGON (((117.31389 7.51417, 117.31416 7...   \n",
       "Metropolitan Manila                          MULTIPOLYGON (((120.97972 14.49306, 120.98000 ...   \n",
       "Northern Mindanao (Region X)                 MULTIPOLYGON (((123.62193 7.82859, 123.62172 7...   \n",
       "SOCCSKSARGEN (Region XII)                    POLYGON ((124.53799 7.68187, 124.54649 7.68032...   \n",
       "Western Visayas (Region VI)                  MULTIPOLYGON (((122.43522 9.64382, 122.43490 9...   \n",
       "Zamboanga Peninsula (Region IX)              MULTIPOLYGON (((122.06223 6.87278, 122.06250 6...   \n",
       "\n",
       "                                              Rate  \n",
       "REGION                                              \n",
       "Autonomous Region of Muslim Mindanao (ARMM)  16.91  \n",
       "Bicol Region (Region V)                      33.36  \n",
       "CALABARZON (Region IV-A)                     55.95  \n",
       "Cagayan Valley (Region II)                   53.66  \n",
       "Caraga (Region XIII)                         59.65  \n",
       "Central Luzon (Region III)                   63.48  \n",
       "Central Visayas (Region VII)                 62.50  \n",
       "Cordillera Administrative Region (CAR)       54.34  \n",
       "Davao Region (Region XI)                     88.04  \n",
       "Eastern Visayas (Region VIII)                18.93  \n",
       "Ilocos Region (Region I)                     35.53  \n",
       "MIMAROPA (Region IV-B)                       57.30  \n",
       "Metropolitan Manila                          27.96  \n",
       "Northern Mindanao (Region X)                 53.66  \n",
       "SOCCSKSARGEN (Region XII)                    93.31  \n",
       "Western Visayas (Region VI)                  50.83  \n",
       "Zamboanga Peninsula (Region IX)              36.87  "
      ]
     },
     "execution_count": 9,
     "metadata": {},
     "output_type": "execute_result"
    }
   ],
   "source": [
    "merged"
   ]
  }
 ],
 "metadata": {
  "kernelspec": {
   "display_name": "Python 3",
   "language": "python",
   "name": "python3"
  },
  "language_info": {
   "codemirror_mode": {
    "name": "ipython",
    "version": 3
   },
   "file_extension": ".py",
   "mimetype": "text/x-python",
   "name": "python",
   "nbconvert_exporter": "python",
   "pygments_lexer": "ipython3",
   "version": "3.6.8"
  }
 },
 "nbformat": 4,
 "nbformat_minor": 2
}
